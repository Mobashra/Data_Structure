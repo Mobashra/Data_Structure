{
 "cells": [
  {
   "cell_type": "code",
   "execution_count": 1,
   "metadata": {},
   "outputs": [
    {
     "name": "stdout",
     "output_type": "stream",
     "text": [
      "[40, 50, 60, 0, 0, 0]\n"
     ]
    }
   ],
   "source": [
    "#Write a method/function named shiftLeft( source, k) that shifts all the elements of the source array to the left by 'k' positions.\n",
    "\n",
    "\n",
    "def shiftLeft(s,k):\n",
    "    \n",
    "    length = len(source) \n",
    "    \n",
    "    for i in range(k,length):\n",
    "        s[i-k] = s[i]\n",
    "        \n",
    "    for j in range(length-1,length-1-k,-1):\n",
    "        s[j] = 0\n",
    "        \n",
    "    return s\n",
    "\n",
    "source=[10,20,30,40,50,60]\n",
    "print(shiftLeft(source,3))"
   ]
  },
  {
   "cell_type": "code",
   "execution_count": 2,
   "metadata": {},
   "outputs": [
    {
     "name": "stdout",
     "output_type": "stream",
     "text": [
      "[40, 50, 60, 10, 20, 30]\n"
     ]
    }
   ],
   "source": [
    "#Write a method/function named rotateLeft( source, k) that rotates all the elements of the source array to the left by 'k' positions. \n",
    "\n",
    "def rotateLeft(s,k):\n",
    "    \n",
    "    length = len(source)\n",
    "    temp = s[:k] \n",
    "    \n",
    "    for i in range(k):\n",
    "        temp[i] = s[i]\n",
    "        \n",
    "    for j in range(k,length):\n",
    "        s[j-k] = s[j]\n",
    "       \n",
    "    count = 0\n",
    "    for val in range(length-k,length):\n",
    "        s[val] = temp[count]\n",
    "        count = count + 1\n",
    "        \n",
    "    return s\n",
    "\n",
    "source=[10,20,30,40,50,60]   \n",
    "print(rotateLeft(source,3))"
   ]
  },
  {
   "cell_type": "code",
   "execution_count": 3,
   "metadata": {},
   "outputs": [
    {
     "name": "stdout",
     "output_type": "stream",
     "text": [
      "[10, 20, 40, 50, 0, 0, 0]\n"
     ]
    }
   ],
   "source": [
    "#Write a method/function named remove( source, size, idx) that removes the element in index idx of the source array.\n",
    "\n",
    "def remove(source,size,idx):\n",
    "    \n",
    "    length = len(source)\n",
    "    \n",
    "    if size == len(source):\n",
    "        print(\"no space in array!\")\n",
    "        \n",
    "        return source\n",
    "    \n",
    "    if idx < 0 or idx > size:\n",
    "        print(\"wrong index\")\n",
    "        \n",
    "        return source\n",
    "    \n",
    "    for i in range(idx,size+1):\n",
    "        source[i] = source[i+1]\n",
    "         \n",
    "    return source\n",
    "\n",
    "source=[10,20,30,40,50,0,0]\n",
    "print(remove(source,5,2))"
   ]
  },
  {
   "cell_type": "code",
   "execution_count": 4,
   "metadata": {},
   "outputs": [
    {
     "name": "stdout",
     "output_type": "stream",
     "text": [
      "[10, 30, 50, 0, 0, 0, 0, 0, 0]\n"
     ]
    }
   ],
   "source": [
    "#Write a method/function named removeAll( source, size, element) that removes all the occurrences of the given element in the source array\n",
    "\n",
    "def removeAll(source,size,element):\n",
    "    \n",
    "    temp = [] \n",
    "    length = len(source)\n",
    "    \n",
    "    if size == len(source):\n",
    "        print(\"no space in array!\")\n",
    "        \n",
    "        return source\n",
    "    \n",
    "    for i in source:\n",
    "        if i == element:\n",
    "            temp += [0] \n",
    "        else:\n",
    "            temp += [i]\n",
    "            \n",
    "    for i in range(length):\n",
    "        for j in range(length-i-1):\n",
    "            if temp[j] == 0:\n",
    "                swap = temp[j]\n",
    "                temp[j] = temp[j+1]\n",
    "                temp[j+1] = swap\n",
    "\n",
    "    print(temp)\n",
    "    \n",
    "source=[10,2,30,2,50,2,2,0,0]\n",
    "removeAll(source,7,2)\n"
   ]
  },
  {
   "cell_type": "code",
   "execution_count": 5,
   "metadata": {},
   "outputs": [
    {
     "name": "stdout",
     "output_type": "stream",
     "text": [
      "3\n"
     ]
    }
   ],
   "source": [
    "#Max Bunch Count\n",
    "\n",
    "def maxBunchCount(source):\n",
    "    \n",
    "    maximum = 0\n",
    "    length = len(source)\n",
    "    \n",
    "    for i in range(length - 1):\n",
    "        \n",
    "        count = 1\n",
    "        for j in range(i + 1, length):\n",
    "            if source[i] == source[j]:\n",
    "                count += 1\n",
    "            else: \n",
    "                break\n",
    "                \n",
    "        if maximum < count:\n",
    "            maximum = count\n",
    "            \n",
    "    print(maximum)\n",
    "            \n",
    "source = [1, 2, 2, 3, 4, 4, 4]\n",
    "maxBunchCount(source)"
   ]
  },
  {
   "cell_type": "code",
   "execution_count": 6,
   "metadata": {},
   "outputs": [
    {
     "name": "stdout",
     "output_type": "stream",
     "text": [
      "False\n"
     ]
    }
   ],
   "source": [
    "#Write a method/function that takes in a circular array, its size and start index and finds whether the elements in the array form a palindrome or not. \n",
    "\n",
    "def palindrome(circle,start,size):\n",
    "    \n",
    "    front = [None] * size\n",
    "    \n",
    "    index = start\n",
    "    for i in range(size):\n",
    "        front[i] = circle[index]\n",
    "        index = (index + 1) % len(circle)\n",
    "    \n",
    "    back = [None] * size\n",
    "    \n",
    "    index = (start + size - 1 ) % len(circle)\n",
    "    for i in range(size):\n",
    "        back[i] = circle[index]\n",
    "        index -= 1\n",
    "        \n",
    "    if front != back: \n",
    "        return False\n",
    "    else: \n",
    "        return True\n",
    "    \n",
    "c1 =[10,20,0,0,0,10,20,30]\n",
    "print(palindrome(c1, 5, 5))\n"
   ]
  },
  {
   "cell_type": "code",
   "execution_count": 8,
   "metadata": {},
   "outputs": [
    {
     "name": "stdout",
     "output_type": "stream",
     "text": [
      "[10, 20, 40]\n"
     ]
    }
   ],
   "source": [
    "#Intersection\n",
    "\n",
    "def intersection(c1, start1, size1, c2, start2, size2):\n",
    "    \n",
    "    len2 = len(c2)\n",
    "    index = start1\n",
    "    count = 0\n",
    "    \n",
    "    for i in range(size1):\n",
    "        for j in range(len2): \n",
    "            if c1[index] == c2[j]:\n",
    "                count += 1\n",
    "        index = (index + 1) % len(c1)\n",
    "        \n",
    "    array = [None] * count\n",
    "    idx = 0\n",
    "    index = start1\n",
    "    \n",
    "    for i in range(size1):\n",
    "        for j in range(len2): \n",
    "            if c1[index] == c2[j]:\n",
    "                array[idx] = c1[index]\n",
    "                idx += 1\n",
    "                \n",
    "        index = (index + 1) % len(c1)\n",
    "        \n",
    "    return array\n",
    "    \n",
    "circ_1 =  [40,50,0,0,0,10,20,30]\n",
    "circ_2 = [10,20,5,0,0,0,0,0,55,40,15,25]\n",
    "ans = intersection(circ_1, 5, 5, circ_2, 2, 8)\n",
    "print(ans)"
   ]
  },
  {
   "cell_type": "code",
   "execution_count": null,
   "metadata": {},
   "outputs": [],
   "source": []
  }
 ],
 "metadata": {
  "kernelspec": {
   "display_name": "Python 3",
   "language": "python",
   "name": "python3"
  },
  "language_info": {
   "codemirror_mode": {
    "name": "ipython",
    "version": 3
   },
   "file_extension": ".py",
   "mimetype": "text/x-python",
   "name": "python",
   "nbconvert_exporter": "python",
   "pygments_lexer": "ipython3",
   "version": "3.8.5"
  }
 },
 "nbformat": 4,
 "nbformat_minor": 4
}
